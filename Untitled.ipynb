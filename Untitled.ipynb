{
 "cells": [
  {
   "cell_type": "code",
   "execution_count": 25,
   "metadata": {},
   "outputs": [
    {
     "name": "stdout",
     "output_type": "stream",
     "text": [
      "OP results\n",
      "Sheet1!C17 10\n",
      "Sheet1!C18 3\n",
      "Sheet1!C19 7\n",
      "Sheet1!C20 4\n",
      "Sheet1!C21 5\n",
      "Sheet1!C22 5\n",
      "Sheet1!C23 5\n",
      "Sheet1!C24 4\n",
      "\n",
      "Actual Output (Parfait)\n",
      "Sheet1!D18 1\n",
      "Sheet1!D19 6.0\n",
      "Sheet1!D20 1.0\n",
      "Sheet1!D21 4.0\n",
      "Sheet1!D24 820.3700000000001\n"
     ]
    }
   ],
   "source": [
    "# https://stackoverflow.com/questions/60704061/how-can-i-convert-an-excel-function-that-is-shown-below-into-a-python-pandas-cod\n",
    "# pip install xlcalculator\n",
    "from xlcalculator import ModelCompiler\n",
    "from xlcalculator import Model\n",
    "from xlcalculator import Evaluator\n",
    "\n",
    "input_dict = {\n",
    "        \"Sheet1!B16\" : \"Column1\",\n",
    "        \"Sheet1!B17\" : 512.96,\n",
    "        \"Sheet1!B18\" : 307.41,\n",
    "        \"Sheet1!B19\" : 413.76,\n",
    "        \"Sheet1!B20\" : 323.65,\n",
    "        \"Sheet1!B21\" : 376.84,\n",
    "        \"Sheet1!B22\" : 368.79,\n",
    "        \"Sheet1!B23\" : 367.77,\n",
    "        \"Sheet1!B24\" : 345.65,\n",
    "\n",
    "        \"Sheet1!C16\" : \"OP results\",\n",
    "        \"Sheet1!C17\" : 10,\n",
    "        \"Sheet1!C18\" : 3,\n",
    "        \"Sheet1!C19\" : 7,\n",
    "        \"Sheet1!C20\" : 4,\n",
    "        \"Sheet1!C21\" : 5,\n",
    "        \"Sheet1!C22\" : 5,\n",
    "        \"Sheet1!C23\" : 5,\n",
    "        \"Sheet1!C24\" : 4,\n",
    "\n",
    "        \"Sheet1!D16\" : \"Actual Output (Parfait)\",\n",
    "#         \"Sheet1!D17\" : '=IF(B17+B18) )',\n",
    "        \"Sheet1!D18\" : '=IF(B18=\"\", \"\", MIN(MAX(CEILING((B18-MIN(B$17:B$46))/((MAX(B$17:B$46)-MIN(B$17:B$46))/10),1),1),10) )',\n",
    "        \"Sheet1!D19\" : '=IF(B19=\"\", \"\", MIN(MAX(CEILING((B19-MIN(B$17:B$46))/((MAX(B$17:B$46)-MIN(B$17:B$46))/10),1),1),10) )',\n",
    "        \"Sheet1!D20\" : '=IF(B20=\"\", \"\", MIN(MAX(CEILING((B20-MIN(B$17:B$46))/((MAX(B$17:B$46)-MIN(B$17:B$46))/10),1),1),10) )',\n",
    "        \"Sheet1!D21\" : '=IF(B21=\"\", \"\", MIN(MAX(CEILING((B21-MIN(B$17:B$46))/((MAX(B$17:B$46)-MIN(B$17:B$46))/10),1),1),10) )',\n",
    "#         \"Sheet1!D22\" : '=IF(B22=\"\", \"\", MIN(MAX(CEILING((B22-MIN(B$17:B$46))/((MAX(B$17:B$46)-MIN(B$17:B$46))/10),1),1),10) )',\n",
    "#         \"Sheet1!D23\" : '=IF(B23=\"\", \"\", MIN(MAX(CEILING((B23-MIN(B$17:B$46))/((MAX(B$17:B$46)-MIN(B$17:B$46))/10),1),1),10) )',\n",
    "        \"Sheet1!D24\" : '=SUM(B17+B18)'\n",
    "    }\n",
    "\n",
    "compiler = ModelCompiler()\n",
    "my_model = compiler.read_and_parse_dict(input_dict)\n",
    "evaluator = Evaluator(my_model)\n",
    "\n",
    "print(evaluator.evaluate(\"Sheet1!C16\"))\n",
    "print(\"Sheet1!C17\", evaluator.evaluate(\"Sheet1!C17\"))\n",
    "print(\"Sheet1!C18\", evaluator.evaluate(\"Sheet1!C18\"))\n",
    "print(\"Sheet1!C19\", evaluator.evaluate(\"Sheet1!C19\"))\n",
    "print(\"Sheet1!C20\", evaluator.evaluate(\"Sheet1!C20\"))\n",
    "print(\"Sheet1!C21\", evaluator.evaluate(\"Sheet1!C21\"))\n",
    "print(\"Sheet1!C22\", evaluator.evaluate(\"Sheet1!C22\"))\n",
    "print(\"Sheet1!C23\", evaluator.evaluate(\"Sheet1!C23\"))\n",
    "print(\"Sheet1!C24\", evaluator.evaluate(\"Sheet1!C24\"))\n",
    "print()\n",
    "print(evaluator.evaluate(\"Sheet1!D16\"))\n",
    "# print(\"Sheet1!D17\", evaluator.evaluate(\"Sheet1!D17\"))\n",
    "print(\"Sheet1!D18\", evaluator.evaluate(\"Sheet1!D18\"))\n",
    "print(\"Sheet1!D19\", evaluator.evaluate(\"Sheet1!D19\"))\n",
    "print(\"Sheet1!D20\", evaluator.evaluate(\"Sheet1!D20\"))\n",
    "print(\"Sheet1!D21\", evaluator.evaluate(\"Sheet1!D21\"))\n",
    "# print(\"Sheet1!D22\", evaluator.evaluate(\"Sheet1!D22\"))\n",
    "# print(\"Sheet1!D23\", evaluator.evaluate(\"Sheet1!D23\"))\n",
    "print(\"Sheet1!D24\", evaluator.evaluate(\"Sheet1!D24\"))"
   ]
  },
  {
   "cell_type": "code",
   "execution_count": null,
   "metadata": {},
   "outputs": [],
   "source": []
  },
  {
   "cell_type": "code",
   "execution_count": null,
   "metadata": {},
   "outputs": [],
   "source": []
  },
  {
   "cell_type": "code",
   "execution_count": null,
   "metadata": {},
   "outputs": [],
   "source": []
  },
  {
   "cell_type": "code",
   "execution_count": null,
   "metadata": {},
   "outputs": [],
   "source": []
  },
  {
   "cell_type": "code",
   "execution_count": 34,
   "metadata": {},
   "outputs": [
    {
     "name": "stdout",
     "output_type": "stream",
     "text": [
      "gggggg\n",
      "None\n",
      "Null\n",
      "--- =SQRT((B2))\n"
     ]
    }
   ],
   "source": [
    "import    win32com.client\n",
    "Excel = win32com.client.Dispatch(\"Excel.Application\")\n",
    "\n",
    "# python -m pip install pywin32\n",
    "file=r\"F:\\myWork\\pyCharm\\vMouse\\excelSamp1.xlsx\"\n",
    "wb = Excel.Workbooks.Open(file)\n",
    "sheet = wb.ActiveSheet\n",
    "print (\"gggggg\")\n",
    "#Get value\n",
    "val = sheet.Cells(6,1).value\n",
    "print(val)\n",
    "\n",
    "# Get Formula\n",
    "forml = sheet.Cells(2,6).Formula  #(row,col)\n",
    "if forml != 0:\n",
    "    print(\"Null\")\n",
    "print(\"---\",forml)"
   ]
  },
  {
   "cell_type": "code",
   "execution_count": 23,
   "metadata": {},
   "outputs": [],
   "source": [
    "\n",
    "sheet1 = wb.ActiveSheet\n",
    "\n",
    "lastCol = sheet1.UsedRange.Columns.Count\n",
    "lastRow = sheet1.UsedRange.Rows.Count"
   ]
  },
  {
   "cell_type": "code",
   "execution_count": 24,
   "metadata": {},
   "outputs": [
    {
     "data": {
      "text/plain": [
       "5"
      ]
     },
     "execution_count": 24,
     "metadata": {},
     "output_type": "execute_result"
    }
   ],
   "source": [
    "lastRow"
   ]
  },
  {
   "cell_type": "code",
   "execution_count": null,
   "metadata": {},
   "outputs": [],
   "source": []
  }
 ],
 "metadata": {
  "kernelspec": {
   "display_name": "Python 3",
   "language": "python",
   "name": "python3"
  },
  "language_info": {
   "codemirror_mode": {
    "name": "ipython",
    "version": 3
   },
   "file_extension": ".py",
   "mimetype": "text/x-python",
   "name": "python",
   "nbconvert_exporter": "python",
   "pygments_lexer": "ipython3",
   "version": "3.7.0"
  }
 },
 "nbformat": 4,
 "nbformat_minor": 4
}
